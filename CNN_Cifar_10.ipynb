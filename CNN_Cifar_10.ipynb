{
 "cells": [
  {
   "cell_type": "markdown",
   "id": "1fa939ab",
   "metadata": {},
   "source": [
    "## Small Image Classification Using Convolutional Neural Network (CNN)\n"
   ]
  },
  {
   "cell_type": "markdown",
   "id": "493f2bbf",
   "metadata": {},
   "source": [
    "![image](\"/4fdf2b82-2bc3-4f97-ba51-400322b228b1.png\")"
   ]
  },
  {
   "cell_type": "code",
   "execution_count": 1,
   "id": "7ca38f41",
   "metadata": {},
   "outputs": [
    {
     "name": "stderr",
     "output_type": "stream",
     "text": [
      "c:\\users\\lenovo\\appdata\\local\\programs\\python\\python39\\lib\\site-packages\\scipy\\__init__.py:146: UserWarning: A NumPy version >=1.17.3 and <1.25.0 is required for this version of SciPy (detected version 1.26.0\n",
      "  warnings.warn(f\"A NumPy version >={np_minversion} and <{np_maxversion}\"\n"
     ]
    }
   ],
   "source": [
    "import tensorflow as tf\n",
    "from tensorflow.keras import datasets, layers, models\n",
    "import matplotlib.pyplot as plt\n",
    "import numpy as np"
   ]
  },
  {
   "cell_type": "code",
   "execution_count": 2,
   "id": "06e2282b",
   "metadata": {},
   "outputs": [
    {
     "name": "stdout",
     "output_type": "stream",
     "text": [
      "Downloading data from https://www.cs.toronto.edu/~kriz/cifar-10-python.tar.gz\n",
      "170498071/170498071 [==============================] - 199s 1us/step\n"
     ]
    },
    {
     "data": {
      "text/plain": [
       "(50000, 32, 32, 3)"
      ]
     },
     "execution_count": 2,
     "metadata": {},
     "output_type": "execute_result"
    }
   ],
   "source": [
    "# Loading Dataset\n",
    "(xtrain, ytrain), (xtest, ytest) = datasets.cifar10.load_data()\n",
    "xtrain.shape"
   ]
  },
  {
   "cell_type": "code",
   "execution_count": 3,
   "id": "40a015fc",
   "metadata": {},
   "outputs": [
    {
     "data": {
      "text/plain": [
       "(50000, 1)"
      ]
     },
     "execution_count": 3,
     "metadata": {},
     "output_type": "execute_result"
    }
   ],
   "source": [
    "ytrain.shape"
   ]
  },
  {
   "cell_type": "code",
   "execution_count": 4,
   "id": "011247ee",
   "metadata": {},
   "outputs": [
    {
     "data": {
      "text/plain": [
       "(10000, 32, 32, 3)"
      ]
     },
     "execution_count": 4,
     "metadata": {},
     "output_type": "execute_result"
    }
   ],
   "source": [
    "xtest.shape"
   ]
  },
  {
   "cell_type": "code",
   "execution_count": 5,
   "id": "ff558902",
   "metadata": {},
   "outputs": [
    {
     "data": {
      "text/plain": [
       "array([[6],\n",
       "       [9],\n",
       "       [9],\n",
       "       [4],\n",
       "       [1]], dtype=uint8)"
      ]
     },
     "execution_count": 5,
     "metadata": {},
     "output_type": "execute_result"
    }
   ],
   "source": [
    "ytrain[:5]"
   ]
  },
  {
   "cell_type": "code",
   "execution_count": 8,
   "id": "9d20d1db",
   "metadata": {},
   "outputs": [
    {
     "data": {
      "text/plain": [
       "array([6, 9, 9, 4, 1], dtype=uint8)"
      ]
     },
     "execution_count": 8,
     "metadata": {},
     "output_type": "execute_result"
    }
   ],
   "source": [
    "# ytrain is 2D make it 1D for good classification\n",
    "ytrain = ytrain.reshape(-1,)\n",
    "ytrain[:5]"
   ]
  },
  {
   "cell_type": "code",
   "execution_count": 9,
   "id": "88b5c28c",
   "metadata": {},
   "outputs": [],
   "source": [
    "ytest = ytest.reshape(-1,)"
   ]
  },
  {
   "cell_type": "code",
   "execution_count": 10,
   "id": "3cbcb111",
   "metadata": {},
   "outputs": [
    {
     "data": {
      "text/plain": [
       "array([3, 8, 8, 0, 6], dtype=uint8)"
      ]
     },
     "execution_count": 10,
     "metadata": {},
     "output_type": "execute_result"
    }
   ],
   "source": [
    "ytest[:5]"
   ]
  },
  {
   "cell_type": "code",
   "execution_count": 11,
   "id": "f4746155",
   "metadata": {},
   "outputs": [],
   "source": [
    "classes = [\"airplane\", \"Automobile\",\"Bird\",\"Cat\",\"Deer\",\"Dog\",\"Frog\",\"Horse\",\"Ship\",\"Truck\"]"
   ]
  },
  {
   "cell_type": "code",
   "execution_count": 12,
   "id": "35bec6b6",
   "metadata": {},
   "outputs": [],
   "source": [
    "# Simple fuction to show image with labelled class\n",
    "def plot_sample(x,y,index):\n",
    "    plt.figure(figsize=(15,2))\n",
    "    plt.imshow(x[index])\n",
    "    plt.xlabel(classes[y[index]])"
   ]
  },
  {
   "cell_type": "code",
   "execution_count": 13,
   "id": "d8288370",
   "metadata": {},
   "outputs": [
    {
     "data": {
      "image/png": "[encoded data removed]",
      "text/plain": [
       "<Figure size 1080x144 with 1 Axes>"
      ]
     },
     "metadata": {
      "needs_background": "light"
     },
     "output_type": "display_data"
    }
   ],
   "source": [
    "plot_sample(xtrain,ytrain,0)"
   ]
  },
  {
   "cell_type": "code",
   "execution_count": 14,
   "id": "932d9e6d",
   "metadata": {},
   "outputs": [],
   "source": [
    "# Normalizing data\n",
    "xtrain = xtrain / 255.0\n",
    "xtest = xtest / 255.0"
   ]
  },
  {
   "cell_type": "code",
   "execution_count": 15,
   "id": "bd9c7d67",
   "metadata": {},
   "outputs": [
    {
     "name": "stdout",
     "output_type": "stream",
     "text": [
      "Epoch 1/5\n",
      "1563/1563 [==============================] - 81s 51ms/step - loss: 1.8131 - accuracy: 0.3516\n",
      "Epoch 2/5\n",
      "1563/1563 [==============================] - 80s 51ms/step - loss: 1.6220 - accuracy: 0.4277\n",
      "Epoch 3/5\n",
      "1563/1563 [==============================] - 78s 50ms/step - loss: 1.5427 - accuracy: 0.4541\n",
      "Epoch 4/5\n",
      "1563/1563 [==============================] - 79s 50ms/step - loss: 1.4837 - accuracy: 0.4784\n",
      "Epoch 5/5\n",
      "1563/1563 [==============================] - 78s 50ms/step - loss: 1.4352 - accuracy: 0.4949\n"
     ]
    },
    {
     "data": {
      "text/plain": [
       "<keras.src.callbacks.History at 0x1e91b42f070>"
      ]
     },
     "execution_count": 15,
     "metadata": {},
     "output_type": "execute_result"
    }
   ],
   "source": [
    "# Building Artificial Neural Network\n",
    "\n",
    "model = models.Sequential([\n",
    "            layers.Flatten(input_shape=(32,32,3)),\n",
    "            layers.Dense(3000, activation='relu'),\n",
    "            layers.Dense(1000, activation='relu'),\n",
    "            layers.Dense(10, activation='softmax')    \n",
    "])\n",
    "\n",
    "model.compile(optimizer='SGD',\n",
    "              loss=\"sparse_categorical_crossentropy\",\n",
    "              metrics=['accuracy'])\n",
    "\n",
    "model.fit(xtrain, ytrain, epochs=5)"
   ]
  },
  {
   "cell_type": "code",
   "execution_count": 16,
   "id": "595b78a0",
   "metadata": {},
   "outputs": [],
   "source": [
    "# so from above ANN it is clear that simple neural network can't make good predictions"
   ]
  },
  {
   "cell_type": "code",
   "execution_count": 19,
   "id": "78faae7e",
   "metadata": {},
   "outputs": [
    {
     "name": "stdout",
     "output_type": "stream",
     "text": [
      "Epoch 1/10\n",
      "1563/1563 [==============================] - 28s 17ms/step - loss: 1.4913 - accuracy: 0.4642\n",
      "Epoch 2/10\n",
      "1563/1563 [==============================] - 25s 16ms/step - loss: 1.1505 - accuracy: 0.5950\n",
      "Epoch 3/10\n",
      "1563/1563 [==============================] - 26s 16ms/step - loss: 1.0250 - accuracy: 0.6427\n",
      "Epoch 4/10\n",
      "1563/1563 [==============================] - 25s 16ms/step - loss: 0.9469 - accuracy: 0.6695\n",
      "Epoch 5/10\n",
      "1563/1563 [==============================] - 26s 16ms/step - loss: 0.8842 - accuracy: 0.6924\n",
      "Epoch 6/10\n",
      "1563/1563 [==============================] - 26s 16ms/step - loss: 0.8326 - accuracy: 0.7112\n",
      "Epoch 7/10\n",
      "1563/1563 [==============================] - 26s 17ms/step - loss: 0.7890 - accuracy: 0.7253\n",
      "Epoch 8/10\n",
      "1563/1563 [==============================] - 27s 17ms/step - loss: 0.7532 - accuracy: 0.7389\n",
      "Epoch 9/10\n",
      "1563/1563 [==============================] - 27s 17ms/step - loss: 0.7186 - accuracy: 0.7494\n",
      "Epoch 10/10\n",
      "1563/1563 [==============================] - 26s 17ms/step - loss: 0.6855 - accuracy: 0.7609\n"
     ]
    },
    {
     "data": {
      "text/plain": [
       "<keras.src.callbacks.History at 0x1e91b8b3c70>"
      ]
     },
     "execution_count": 19,
     "metadata": {},
     "output_type": "execute_result"
    }
   ],
   "source": [
    "# CNN\n",
    "\n",
    "cnn = models.Sequential([\n",
    "    layers.Conv2D(filters=32,kernel_size=(3,3), activation='relu',input_shape=(32,32,3)),\n",
    "    layers.MaxPooling2D((2,2)),\n",
    "    layers.Conv2D(filters=64, kernel_size=(3,3), activation='relu'),\n",
    "    layers.MaxPooling2D((2,2)),\n",
    "    layers.Flatten(),\n",
    "    layers.Dense(64,activation='relu'),\n",
    "    layers.Dense(10,activation='softmax')\n",
    "])\n",
    "\n",
    "cnn.compile(optimizer=\"adam\",\n",
    "           loss=\"sparse_categorical_crossentropy\",\n",
    "           metrics=['accuracy'])\n",
    "\n",
    "cnn.fit(xtrain,ytrain,epochs=10)"
   ]
  },
  {
   "cell_type": "code",
   "execution_count": 20,
   "id": "29c5de5c",
   "metadata": {},
   "outputs": [
    {
     "name": "stdout",
     "output_type": "stream",
     "text": [
      "313/313 [==============================] - 2s 6ms/step - loss: 0.9218 - accuracy: 0.6935\n"
     ]
    },
    {
     "data": {
      "text/plain": [
       "[0.9218035936355591, 0.6934999823570251]"
      ]
     },
     "execution_count": 20,
     "metadata": {},
     "output_type": "execute_result"
    }
   ],
   "source": [
    "cnn.evaluate(xtest,ytest)"
   ]
  },
  {
   "cell_type": "code",
   "execution_count": 21,
   "id": "7f2d38ec",
   "metadata": {},
   "outputs": [
    {
     "name": "stdout",
     "output_type": "stream",
     "text": [
      "313/313 [==============================] - 2s 7ms/step\n"
     ]
    }
   ],
   "source": [
    "ypred = cnn.predict(xtest)"
   ]
  },
  {
   "cell_type": "code",
   "execution_count": 23,
   "id": "09784a5b",
   "metadata": {},
   "outputs": [
    {
     "data": {
      "text/plain": [
       "array([[2.23851902e-03, 1.09085673e-03, 1.41743920e-03, 6.78123057e-01,\n",
       "        5.60861256e-04, 1.06013708e-01, 4.01950115e-03, 7.77148991e-04,\n",
       "        2.05135703e-01, 6.23180124e-04],\n",
       "       [7.07714958e-03, 1.98706791e-01, 1.94300046e-05, 1.37323511e-07,\n",
       "        1.54545674e-08, 2.39312292e-10, 2.11846829e-09, 1.05598597e-09,\n",
       "        7.91670263e-01, 2.52618291e-03],\n",
       "       [2.47083027e-02, 1.62153363e-01, 2.64455797e-04, 1.75545196e-04,\n",
       "        1.17282965e-04, 2.94997990e-05, 2.11032147e-05, 1.28835991e-05,\n",
       "        8.07719350e-01, 4.79821907e-03]], dtype=float32)"
      ]
     },
     "execution_count": 23,
     "metadata": {},
     "output_type": "execute_result"
    }
   ],
   "source": [
    "ypred[:3]"
   ]
  },
  {
   "cell_type": "code",
   "execution_count": 25,
   "id": "8e989565",
   "metadata": {},
   "outputs": [],
   "source": [
    "y_classes_pred = [np.argmax(element) for element in ypred]"
   ]
  },
  {
   "cell_type": "code",
   "execution_count": 26,
   "id": "931c6da1",
   "metadata": {},
   "outputs": [
    {
     "data": {
      "text/plain": [
       "[3, 8, 8, 8, 4]"
      ]
     },
     "execution_count": 26,
     "metadata": {},
     "output_type": "execute_result"
    }
   ],
   "source": [
    "y_classes_pred[:5]"
   ]
  },
  {
   "cell_type": "code",
   "execution_count": 27,
   "id": "bf9e085f",
   "metadata": {},
   "outputs": [
    {
     "data": {
      "text/plain": [
       "array([3, 8, 8, 0, 6], dtype=uint8)"
      ]
     },
     "execution_count": 27,
     "metadata": {},
     "output_type": "execute_result"
    }
   ],
   "source": [
    "ytest[:5]"
   ]
  },
  {
   "cell_type": "code",
   "execution_count": 28,
   "id": "752e9b92",
   "metadata": {},
   "outputs": [
    {
     "data": {
      "image/png": "[encoded data removed]",
      "text/plain": [
       "<Figure size 1080x144 with 1 Axes>"
      ]
     },
     "metadata": {
      "needs_background": "light"
     },
     "output_type": "display_data"
    }
   ],
   "source": [
    "plot_sample(xtest, ytest, 1)"
   ]
  },
  {
   "cell_type": "code",
   "execution_count": 29,
   "id": "9e728809",
   "metadata": {},
   "outputs": [
    {
     "data": {
      "text/plain": [
       "'Ship'"
      ]
     },
     "execution_count": 29,
     "metadata": {},
     "output_type": "execute_result"
    }
   ],
   "source": [
    "classes[y_classes_pred[1]]"
   ]
  },
  {
   "cell_type": "code",
   "execution_count": null,
   "id": "9d196013",
   "metadata": {},
   "outputs": [],
   "source": []
  }
 ],
 "metadata": {
  "kernelspec": {
   "display_name": "Python 3 (ipykernel)",
   "language": "python",
   "name": "python3"
  },
  "language_info": {
   "codemirror_mode": {
    "name": "ipython",
    "version": 3
   },
   "file_extension": ".py",
   "mimetype": "text/x-python",
   "name": "python",
   "nbconvert_exporter": "python",
   "pygments_lexer": "ipython3",
   "version": "3.9.6"
  }
 },
 "nbformat": 4,
 "nbformat_minor": 5
}
